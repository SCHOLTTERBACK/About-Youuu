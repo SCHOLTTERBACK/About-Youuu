{
  "nbformat": 4,
  "nbformat_minor": 0,
  "metadata": {
    "colab": {
      "provenance": [],
      "authorship_tag": "ABX9TyP3mJw9N5vqc6jol8u6QMgy",
      "include_colab_link": true
    },
    "kernelspec": {
      "name": "python3",
      "display_name": "Python 3"
    },
    "language_info": {
      "name": "python"
    }
  },
  "cells": [
    {
      "cell_type": "markdown",
      "metadata": {
        "id": "view-in-github",
        "colab_type": "text"
      },
      "source": [
        "<a href=\"https://colab.research.google.com/github/SCHOLTTERBACK/About-Youuu/blob/main/Salinan_dari_Acara_1.ipynb\" target=\"_parent\"><img src=\"https://colab.research.google.com/assets/colab-badge.svg\" alt=\"Open In Colab\"/></a>"
      ]
    },
    {
      "cell_type": "code",
      "execution_count": null,
      "metadata": {
        "colab": {
          "base_uri": "https://localhost:8080/"
        },
        "id": "mGBW3KGHTcvX",
        "outputId": "cda7cfbb-14c2-4b3f-ee4d-132b57a29bb0"
      },
      "outputs": [
        {
          "output_type": "stream",
          "name": "stdout",
          "text": [
            "10\n",
            "0.1\n",
            "HELLO WORLD\n",
            "True\n",
            "123\n",
            "321\n"
          ]
        }
      ],
      "source": [
        "data_1 = 10\n",
        "data_2 = 0.1\n",
        "data_3 = 'HELLO WORLD'\n",
        "data_4 = True\n",
        "data_5 = ['xyz','123']\n",
        "data_6 = ('xyz', 321)\n",
        "\n",
        "print(data_1)\n",
        "print(data_2)\n",
        "print(data_3)\n",
        "print(data_4)\n",
        "print(data_5[1])\n",
        "print(data_6[1])"
      ]
    },
    {
      "cell_type": "code",
      "source": [
        "print('tipe data:', type(data_1))\n",
        "print('tipe data:', type(data_2))\n",
        "print('tipe data:', type(data_3))\n",
        "print('tipe data:', type(data_4))\n",
        "print('tipe data:', type(data_5))\n",
        "print('tipe data:', type(data_6))"
      ],
      "metadata": {
        "colab": {
          "base_uri": "https://localhost:8080/"
        },
        "id": "cRtaIZ-ZZClr",
        "outputId": "e945dadb-11c0-49dc-a86d-d63b4c8965ac"
      },
      "execution_count": null,
      "outputs": [
        {
          "output_type": "stream",
          "name": "stdout",
          "text": [
            "tipe data: <class 'int'>\n",
            "tipe data: <class 'float'>\n",
            "tipe data: <class 'str'>\n",
            "tipe data: <class 'bool'>\n",
            "tipe data: <class 'list'>\n",
            "tipe data: <class 'tuple'>\n"
          ]
        }
      ]
    },
    {
      "cell_type": "code",
      "source": [
        "penjumblahan = 1+2\n",
        "pengurangan = 1-2\n",
        "perkalian = 1*2\n",
        "pembagian = 1/2\n",
        "modulus = 1%2\n",
        "pangkat = 1**2\n",
        "pembagian_bulat = 1//2\n",
        "\n",
        "print(penjumblahan)\n",
        "print(pengurangan)\n",
        "print(perkalian)\n",
        "print(pembagian)\n",
        "print(modulus)\n",
        "print(pangkat)\n",
        "print(pembagian_bulat)"
      ],
      "metadata": {
        "colab": {
          "base_uri": "https://localhost:8080/"
        },
        "id": "Jtt_Mx4ZatRS",
        "outputId": "91dbb9c8-0dbb-41df-cb50-32f0e7dcd8a9"
      },
      "execution_count": null,
      "outputs": [
        {
          "output_type": "stream",
          "name": "stdout",
          "text": [
            "3\n",
            "-1\n",
            "2\n",
            "0.5\n",
            "1\n",
            "1\n",
            "0\n"
          ]
        }
      ]
    },
    {
      "cell_type": "code",
      "source": [
        "import math\n",
        "print(math.pi)\n",
        "print('tipe data:', type(math.e))\n",
        "\n",
        "jari_jari = 21.5\n",
        "luas = math.pi * (jari_jari ** 2)\n",
        "print(luas)"
      ],
      "metadata": {
        "colab": {
          "base_uri": "https://localhost:8080/"
        },
        "id": "liv-timQcO0A",
        "outputId": "bfb8af21-252d-4fa0-e31c-ae79c14f2acb"
      },
      "execution_count": null,
      "outputs": [
        {
          "output_type": "stream",
          "name": "stdout",
          "text": [
            "3.141592653589793\n",
            "tipe data: <class 'float'>\n",
            "1452.2012041218818\n"
          ]
        }
      ]
    },
    {
      "cell_type": "code",
      "source": [
        "print(\"luas dari keset yang andi beli adalah\", luas, \"cm**2\")"
      ],
      "metadata": {
        "colab": {
          "base_uri": "https://localhost:8080/"
        },
        "id": "igYijkuMcGU6",
        "outputId": "a7a64705-604b-42b4-c045-b2effc2fa0ad"
      },
      "execution_count": null,
      "outputs": [
        {
          "output_type": "stream",
          "name": "stdout",
          "text": [
            "luas dari keset yang andi beli adalah 1452.2012041218818 cm**2\n"
          ]
        }
      ]
    },
    {
      "cell_type": "code",
      "source": [
        "print(f'luas dari keset yang andi beli adalah {luas:.2f} cm**2')"
      ],
      "metadata": {
        "colab": {
          "base_uri": "https://localhost:8080/"
        },
        "id": "4muQTyF4g108",
        "outputId": "28724cb1-b434-4a01-ac16-3b5a7f0b363e"
      },
      "execution_count": null,
      "outputs": [
        {
          "output_type": "stream",
          "name": "stdout",
          "text": [
            "luas dari keset yang andi beli adalah 1452.20 cm**2\n"
          ]
        }
      ]
    },
    {
      "cell_type": "code",
      "source": [
        "print(f'luas dari keset yang andi beli adalah {luas} cm**2')"
      ],
      "metadata": {
        "colab": {
          "base_uri": "https://localhost:8080/"
        },
        "id": "j1WH2f_qhlGd",
        "outputId": "87aca575-cb11-436b-bf01-c21cbbe7b336"
      },
      "execution_count": null,
      "outputs": [
        {
          "output_type": "stream",
          "name": "stdout",
          "text": [
            "luas dari keset yang andi beli adalah 1452.2012041218818 cm**2\n"
          ]
        }
      ]
    }
  ]
}